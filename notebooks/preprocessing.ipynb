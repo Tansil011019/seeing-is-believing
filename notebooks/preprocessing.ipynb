{
 "cells": [
  {
   "cell_type": "code",
   "execution_count": 1,
   "id": "6a29832b",
   "metadata": {},
   "outputs": [],
   "source": [
    "%load_ext autoreload\n",
    "%autoreload 2"
   ]
  },
  {
   "cell_type": "code",
   "execution_count": 2,
   "id": "7f3d29ac",
   "metadata": {},
   "outputs": [],
   "source": [
    "import os\n",
    "import pandas as pd\n",
    "import numpy as np\n",
    "import matplotlib.pyplot as plt\n",
    "from PIL import Image"
   ]
  },
  {
   "cell_type": "code",
   "execution_count": 3,
   "id": "3966601e",
   "metadata": {},
   "outputs": [],
   "source": [
    "base_folder = \"/data/wilsontansil/seeing-is-believing/notebooks/ISIC2018_Task3_Training_Input\"\n",
    "files = os.listdir(base_folder)"
   ]
  },
  {
   "cell_type": "code",
   "execution_count": 4,
   "id": "67e70cac",
   "metadata": {},
   "outputs": [
    {
     "name": "stdout",
     "output_type": "stream",
     "text": [
      "Found CSV file: /data/wilsontansil/seeing-is-believing/notebooks/ISIC2018_Task3_Training_Input/cleaned_data.csv\n"
     ]
    },
    {
     "data": {
      "text/html": [
       "<div>\n",
       "<style scoped>\n",
       "    .dataframe tbody tr th:only-of-type {\n",
       "        vertical-align: middle;\n",
       "    }\n",
       "\n",
       "    .dataframe tbody tr th {\n",
       "        vertical-align: top;\n",
       "    }\n",
       "\n",
       "    .dataframe thead th {\n",
       "        text-align: right;\n",
       "    }\n",
       "</style>\n",
       "<table border=\"1\" class=\"dataframe\">\n",
       "  <thead>\n",
       "    <tr style=\"text-align: right;\">\n",
       "      <th></th>\n",
       "      <th>image</th>\n",
       "      <th>label</th>\n",
       "    </tr>\n",
       "  </thead>\n",
       "  <tbody>\n",
       "    <tr>\n",
       "      <th>0</th>\n",
       "      <td>ISIC_0024310</td>\n",
       "      <td>MEL</td>\n",
       "    </tr>\n",
       "    <tr>\n",
       "      <th>1</th>\n",
       "      <td>ISIC_0024313</td>\n",
       "      <td>MEL</td>\n",
       "    </tr>\n",
       "    <tr>\n",
       "      <th>2</th>\n",
       "      <td>ISIC_0024315</td>\n",
       "      <td>MEL</td>\n",
       "    </tr>\n",
       "    <tr>\n",
       "      <th>3</th>\n",
       "      <td>ISIC_0024323</td>\n",
       "      <td>MEL</td>\n",
       "    </tr>\n",
       "    <tr>\n",
       "      <th>4</th>\n",
       "      <td>ISIC_0024333</td>\n",
       "      <td>MEL</td>\n",
       "    </tr>\n",
       "  </tbody>\n",
       "</table>\n",
       "</div>"
      ],
      "text/plain": [
       "          image label\n",
       "0  ISIC_0024310   MEL\n",
       "1  ISIC_0024313   MEL\n",
       "2  ISIC_0024315   MEL\n",
       "3  ISIC_0024323   MEL\n",
       "4  ISIC_0024333   MEL"
      ]
     },
     "metadata": {},
     "output_type": "display_data"
    }
   ],
   "source": [
    "csv_file = None\n",
    "for root, dirs, files in os.walk(base_folder):\n",
    "    for file in files:\n",
    "        if file.endswith(\".csv\"):\n",
    "            csv_file = os.path.join(root, file)\n",
    "            break\n",
    "    if csv_file:\n",
    "        break\n",
    "\n",
    "if csv_file:\n",
    "    print(f\"Found CSV file: {csv_file}\")\n",
    "    df = pd.read_csv(csv_file)\n",
    "    display(df.head())\n",
    "else:\n",
    "    print(\"Cannot load data as no CSV file was found.\")"
   ]
  },
  {
   "cell_type": "code",
   "execution_count": 5,
   "id": "d185ab12",
   "metadata": {},
   "outputs": [],
   "source": [
    "DATASET_DIR = \"/data/wilsontansil/seeing-is-believing/notebooks/ISIC2018_Task3_Training_Input\"\n",
    "FILE_EXTENSION = \".jpg\"\n",
    "image = \"ISIC_0024310\""
   ]
  },
  {
   "cell_type": "code",
   "execution_count": 6,
   "id": "25eeb2f0",
   "metadata": {},
   "outputs": [],
   "source": [
    "import sys\n",
    "import os\n",
    "\n",
    "project_root = os.path.abspath(os.path.join(os.getcwd(), \"..\"))\n",
    "if project_root not in sys.path:\n",
    "    sys.path.append(project_root)"
   ]
  },
  {
   "cell_type": "code",
   "execution_count": 10,
   "id": "34e5ff66",
   "metadata": {},
   "outputs": [],
   "source": [
    "from utils.preprocess import preprocess_images\n",
    "\n",
    "img = Image.open(f\"{DATASET_DIR}/{image}{FILE_EXTENSION}\")\n",
    "X_batch = preprocess_images(\n",
    "    images = [img]\n",
    ")"
   ]
  },
  {
   "cell_type": "code",
   "execution_count": 11,
   "id": "9945c388",
   "metadata": {},
   "outputs": [
    {
     "name": "stdout",
     "output_type": "stream",
     "text": [
      "\n",
      "--- Rentang Nilai (Min / Max) ---\n",
      "Before: 9 -> 255\n",
      "After:  0.03529411926865578 -> 1.0\n"
     ]
    }
   ],
   "source": [
    "print(f\"\\n--- Rentang Nilai (Min / Max) ---\")\n",
    "print(f\"Before: {np.array(img).min()} -> {np.array(img).max()}\")\n",
    "print(f\"After:  {X_batch[0].min()} -> {X_batch[0].max()}\")"
   ]
  }
 ],
 "metadata": {
  "kernelspec": {
   "display_name": "Marthen",
   "language": "python",
   "name": "marthen"
  },
  "language_info": {
   "codemirror_mode": {
    "name": "ipython",
    "version": 3
   },
   "file_extension": ".py",
   "mimetype": "text/x-python",
   "name": "python",
   "nbconvert_exporter": "python",
   "pygments_lexer": "ipython3",
   "version": "3.12.3"
  }
 },
 "nbformat": 4,
 "nbformat_minor": 5
}
